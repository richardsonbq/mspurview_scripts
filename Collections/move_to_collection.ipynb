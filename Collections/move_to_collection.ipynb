{
  "cells": [
    {
      "cell_type": "code",
      "execution_count": null,
      "metadata": {},
      "outputs": [],
      "source": [
        "\"\"\"\n",
        "********************************************************************************************************************************************************************************************************\n",
        "Author: Richardson Nascimento\n",
        "Creation Date: 10/06/2022\n",
        "Modification Date: 26/09/2022\n",
        "Purpose: This notebook demonstrate how to move assets between collections in  Microsoft Purview.\n",
        "Main parameters:\n",
        "    - QUALIFIED: Qualified Name of the parent object that should be moved along with its hierarchy\n",
        "    - SOURCE_COLLECTION: The id of the source collection where the assets are currently located\n",
        "    - TARGET_COLLECTION: The id of the destination collection where the assets should be moved\n",
        "\n",
        "Pending:\n",
        "    - Remove sensitive authentication information and start using Key Vault\n",
        "    - Use only PyApacheAtlas to perform the collection movement. However, this is not yet available, requiring the use of the REST API, which requires another type of authentication\n",
        "    - Improve performance by using multi-threading/batch processing for larger collections\n",
        "*******\n",
        "\"\"\""
      ]
    },
    {
      "cell_type": "code",
      "execution_count": null,
      "metadata": {},
      "outputs": [],
      "source": [
        "!pip install pyapacheatlas"
      ]
    },
    {
      "cell_type": "code",
      "execution_count": 1,
      "metadata": {},
      "outputs": [],
      "source": [
        "from pyapacheatlas.auth import ServicePrincipalAuthentication\n",
        "from pyapacheatlas.core import PurviewClient\n",
        "import requests\n",
        "from requests.exceptions import HTTPError\n",
        "import os"
      ]
    },
    {
      "cell_type": "code",
      "execution_count": 2,
      "metadata": {},
      "outputs": [],
      "source": [
        "###General parameters. Please, replace the values with your own and use environment variables to store sensitive information\n",
        "\n",
        "# Tenant ID for your Azure Subscription\n",
        "TENANT_ID = str(os.getenv('TENANT_ID'))\n",
        "\n",
        "# Your Service Principal App ID\n",
        "CLIENT = os.getenv('CLIENT_ID')\n",
        "\n",
        "# Your Service Principal Password\n",
        "CLIENT_SECRET = os.getenv('CLIENT_SECRET')\n",
        "\n",
        "# Retrieve the name of the account (Purview name, with no URL. e.g. ContosoPurview)\n",
        "ACCOUNT = os.getenv('PURVIEW_NAME')\n",
        "\n",
        "#Endpoint completo da conta do Purview\n",
        "PURVIEW_ENDPOINT = f\"https://{ACCOUNT}.purview.azure.com\"\n",
        "\n",
        "#Microsoft Purview resource\n",
        "RESOURCE = '73c2949e-da2d-457a-9607-fcc665198967'\n",
        "\n",
        "#Defines the authentication URL to be used\n",
        "ms_auth_url = \"https://login.microsoftonline.com/\" + TENANT_ID\n",
        "\n",
        "#Version of the API to move assets - always use the latest version\n",
        "MOVE_API_VERSION = \"2022-03-01-preview\"\n",
        "\n",
        "#Versão da API de listagem das coleções\n",
        "LIST_API_VERSION=\"2019-11-01-preview\" "
      ]
    },
    {
      "cell_type": "code",
      "execution_count": null,
      "metadata": {},
      "outputs": [],
      "source": [
        "#List all collections in a Purview account\n",
        "def List_Collections(endpoint, token):\n",
        "    \"\"\"\n",
        "    This function list all collections in a Microsoft Purview account\n",
        "    \"\"\"\n",
        "    \n",
        "    url = endpoint + f\"/account/collections?api-version={LIST_API_VERSION}\"\n",
        "    headers = {\n",
        "        'Authorization': 'Bearer ' + token,\n",
        "        'Content-Type': 'application/json'\n",
        "    }\n",
        "    response = requests.get(url, headers=headers)\n",
        "    response.raise_for_status()\n",
        "    return response.json()"
      ]
    },
    {
      "cell_type": "code",
      "execution_count": null,
      "metadata": {},
      "outputs": [],
      "source": [
        "# Create a Service Principal Authentication object for PyApahceAtlas\n",
        "auth = ServicePrincipalAuthentication(\n",
        "    tenant_id = TENANT_ID,\n",
        "    client_id = CLIENT,\n",
        "    client_secret = CLIENT_SECRET\n",
        ")\n",
        "\n",
        "# Create a PurviewClient object for making API calls using REST APIs\n",
        "context = adal.AuthenticationContext(ms_auth_url)\n",
        "token = context.acquire_token_with_client_credentials(\n",
        "    resource=RESOURCE,\n",
        "    client_id=CLIENT,\n",
        "    client_secret=CLIENT_SECRET\n",
        ")\n",
        "\n",
        "auth_token = token[\"accessToken\"]"
      ]
    },
    {
      "cell_type": "code",
      "execution_count": null,
      "metadata": {},
      "outputs": [],
      "source": [
        "#Retrieve the available collections, so you can get the ID of the source and target collections \n",
        "collections = List_Collections(PURVIEW_ENDPOINT, token)\n",
        "\n",
        "for collection in List_Collections(PURVIEW_ENDPOINT, token):\n",
        "    print(f\"Collection ID: {collection['id']}, Name: {collection['name']}\")"
      ]
    },
    {
      "cell_type": "code",
      "execution_count": null,
      "metadata": {},
      "outputs": [],
      "source": [
        "###Define parameters related to the assets to be moved\n",
        "\n",
        "#The qualified name of the objects to be moved. Always be aware of the hierarchy of the assets to be moved\n",
        "QUALIFIED = \"asazure://aspaaseastus2.asazure.windows.net/contosoaas/AAS - Contoso\"\n",
        "\n",
        "#ID of the collection where the assets represented by the QUALIFIED NAME are currently located\n",
        "SOURCE_COLLECTION = \"Contoso_HR\"\n",
        "\n",
        "#ID of the target collection where the assets should be moved to \n",
        "TARGET_COLLECTION = \"abcd\""
      ]
    },
    {
      "cell_type": "code",
      "execution_count": 4,
      "metadata": {
        "jupyter": {
          "outputs_hidden": false,
          "source_hidden": false
        },
        "nteract": {
          "transient": {
            "deleting": false
          }
        },
        "tags": []
      },
      "outputs": [],
      "source": [
        "\n",
        "#Uses PyApacheAtlas to search for the assets to be moved\n",
        "client = PurviewClient(\n",
        "    account_name = ACCOUNT,\n",
        "    authentication = auth\n",
        ")\n",
        "\n",
        "#Setup a filter to ensure only the assets that match a given criteria will be moved\n",
        "filter_setup={\"and\":[                     \n",
        "                    {\n",
        "                        \"attributeName\":\"qualifiedName\", \n",
        "                        \"attributeValue\":QUALIFIED,\n",
        "                        \"operator\":\"contains\"\n",
        "                    },\n",
        "                    {\"collectionId\":SOURCE_COLLECTION}\n",
        "]\n",
        "    }\n",
        "                     \n",
        "\n",
        "\"\"\"Alternative filter setup to move only specified EntityTypes in case you need to filter. Any valid filter can be used\n",
        "filter_setup={\n",
        "                \"and\": [      \n",
        "                    {\n",
        "                        \"attributeName\":\"qualifiedName\", \n",
        "                        \"attributeValue\":QUALIFIED,\n",
        "                        \"operator\":\"startswith\"\n",
        "                    },\n",
        "                    {\"collectionId\":SOURCE_COLLECTION},\n",
        "                     {\n",
        "                        \"or\": [\n",
        "                             {\"entityType\":\"aas_table\"},\n",
        "                             {\"entityType\":\"aas_column\"},\n",
        "                             {\"entityType\":\"aas_model\"}\n",
        "                        ]\n",
        "                     }\n",
        "                ]\n",
        "            }\n",
        "\n",
        "### \"\"\"\n",
        "\n",
        "#Search for the assets to be moved according to the filter\n",
        "search = client.discovery.search_entities(\"*\", search_filter=filter_setup)"
      ]
    },
    {
      "cell_type": "code",
      "execution_count": null,
      "metadata": {
        "tags": []
      },
      "outputs": [],
      "source": [
        "#Creates a list to store the GUIDs of the assets to be moved\n",
        "guids=[]\n",
        "for entity in search:\n",
        "    #TO-DO: Evaluate better ways to improve the performance\n",
        "    guids.append(entity['id'])\n",
        "\n",
        "#Optionally, you can use this opportunity to print the GUIDs of the assets to be moved to validate before proceeding\n",
        "print(f\"{len(guids)} elements to be moved to the new collection.\")"
      ]
    },
    {
      "cell_type": "code",
      "execution_count": 6,
      "metadata": {
        "tags": []
      },
      "outputs": [],
      "source": [
        "#Use the Purview REST COLLECTION API to move the assets to the target collection\n",
        "if len(guids) > 0:\n",
        "    endpoint_move = PURVIEW_ENDPOINT + f\"/catalog/api/collections/{TARGET_COLLECTION}/entity/moveHere\"  \n",
        "    params = params = {\"api-version\": MOVE_API_VERSION}\n",
        "    hed = {'Authorization': 'Bearer ' + auth_token}   \n",
        "\n",
        "    #Move the assets to the target collection \n",
        "    try:    \n",
        "        response = requests.post(\n",
        "                        endpoint_move,\n",
        "                        json={\"entityGuids\": guids},\n",
        "                        params=params,\n",
        "                        headers = hed)       \n",
        "        response.raise_for_status()\n",
        "        #Salva os resultados\n",
        "        resultado = response.json()\n",
        "\n",
        "    except HTTPError as http_err:\n",
        "        print(f'HTTP error occurred: {http_err}')\n",
        "    except Exception as err:\n",
        "        print(f'Other error occurred: {err}')"
      ]
    },
    {
      "cell_type": "code",
      "execution_count": null,
      "metadata": {
        "tags": []
      },
      "outputs": [],
      "source": [
        "#Print the results of the move operation\n",
        "if \"mutatedEntities\" in resultado:\n",
        "    moved=[]\n",
        "    for elemento in resultado['mutatedEntities']['UPDATE']:    \n",
        "        moved.append(elemento['attributes']['qualifiedName'])\n",
        "\n",
        "    print(f\"Number of moved assets:  {len(moved)}. List: \")\n",
        "    print(moved)\n",
        "else:\n",
        "    print(\"No asset has been moved.\")"
      ]
    }
  ],
  "metadata": {
    "kernelspec": {
      "display_name": "Python 3.8.1 64-bit",
      "language": "python",
      "name": "python_defaultSpec_1664566808356"
    },
    "language_info": {
      "codemirror_mode": {
        "name": "ipython",
        "version": 3
      },
      "file_extension": ".py",
      "mimetype": "text/x-python",
      "name": "python",
      "nbconvert_exporter": "python",
      "pygments_lexer": "ipython3",
      "version": "3.8.1-final"
    },
    "save_output": true,
    "synapse_widget": {
      "state": {},
      "version": "0.1"
    },
    "vscode": {
      "interpreter": {
        "hash": "1a7892181bc6a8b5934ec9e9bbb9c30c52104e5f153701f05479b274bedc3f5b"
      }
    }
  },
  "nbformat": 4,
  "nbformat_minor": 2
}
